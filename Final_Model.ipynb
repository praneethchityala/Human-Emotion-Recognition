{
 "cells": [
  {
   "cell_type": "markdown",
   "id": "69b7fa74",
   "metadata": {},
   "source": [
    "## Importing Libraries"
   ]
  },
  {
   "cell_type": "code",
   "execution_count": 1,
   "id": "76848d11",
   "metadata": {},
   "outputs": [
    {
     "name": "stdout",
     "output_type": "stream",
     "text": [
      "Init Plugin\n",
      "Init Graph Optimizer\n",
      "Init Kernel\n"
     ]
    }
   ],
   "source": [
    "import matplotlib.pyplot as plt\n",
    "import numpy as np\n",
    "import pandas as pd\n",
    "import seaborn as sns\n",
    "import os\n",
    "\n",
    "from tensorflow.keras.preprocessing.image import load_img, img_to_array\n",
    "from tensorflow.keras.preprocessing.image import ImageDataGenerator\n",
    "from tensorflow.keras.layers import Dense,Input,Dropout,GlobalAveragePooling2D,Flatten,Conv2D,BatchNormalization,Activation,MaxPooling2D,AveragePooling2D\n",
    "from tensorflow.keras.models import Model,Sequential\n",
    "from tensorflow.keras.optimizers import Adam,SGD,RMSprop\n",
    "from tensorflow.keras.callbacks import TensorBoard,ModelCheckpoint, EarlyStopping, ReduceLROnPlateau\n"
   ]
  },
  {
   "cell_type": "markdown",
   "id": "20f09337",
   "metadata": {},
   "source": [
    "## Displaying Images"
   ]
  },
  {
   "cell_type": "code",
   "execution_count": 2,
   "id": "d2f62788",
   "metadata": {},
   "outputs": [],
   "source": [
    "picture_size = 48\n",
    "folder_path = \"/Users/praneeth44/OneDrive - Indiana University/IU/AML/Project/FER 2013/archive/\""
   ]
  },
  {
   "cell_type": "markdown",
   "id": "30ba3294",
   "metadata": {},
   "source": [
    "## Making Training and Validation Data"
   ]
  },
  {
   "cell_type": "code",
   "execution_count": 3,
   "id": "19428d8c",
   "metadata": {},
   "outputs": [
    {
     "name": "stdout",
     "output_type": "stream",
     "text": [
      "Found 28709 images belonging to 7 classes.\n",
      "Found 7178 images belonging to 7 classes.\n"
     ]
    }
   ],
   "source": [
    "batch_size  = 128\n",
    "\n",
    "datagen_train  = ImageDataGenerator()\n",
    "datagen_val = ImageDataGenerator()\n",
    "\n",
    "train_set = datagen_train.flow_from_directory(folder_path+\"train\",\n",
    "                                              target_size = (picture_size,picture_size),\n",
    "                                              color_mode = \"grayscale\",\n",
    "                                              batch_size=batch_size,\n",
    "                                              class_mode='categorical',\n",
    "                                              shuffle=True)\n",
    "\n",
    "\n",
    "test_set = datagen_val.flow_from_directory(folder_path+\"test\",\n",
    "                                              target_size = (picture_size,picture_size),\n",
    "                                              color_mode = \"grayscale\",\n",
    "                                              batch_size=batch_size,\n",
    "                                              class_mode='categorical',\n",
    "                                              shuffle=False)"
   ]
  },
  {
   "cell_type": "markdown",
   "id": "af948aab",
   "metadata": {},
   "source": [
    "## Model Building"
   ]
  },
  {
   "cell_type": "code",
   "execution_count": 5,
   "id": "592e8952",
   "metadata": {
    "scrolled": true
   },
   "outputs": [
    {
     "name": "stdout",
     "output_type": "stream",
     "text": [
      "Metal device set to: Apple M1\n"
     ]
    },
    {
     "name": "stderr",
     "output_type": "stream",
     "text": [
      "2021-12-11 19:27:41.139859: I tensorflow/core/common_runtime/pluggable_device/pluggable_device_factory.cc:305] Could not identify NUMA node of platform GPU ID 0, defaulting to 0. Your kernel may not have been built with NUMA support.\n",
      "2021-12-11 19:27:41.140518: I tensorflow/core/common_runtime/pluggable_device/pluggable_device_factory.cc:271] Created TensorFlow device (/job:localhost/replica:0/task:0/device:GPU:0 with 0 MB memory) -> physical PluggableDevice (device: 0, name: METAL, pci bus id: <undefined>)\n"
     ]
    },
    {
     "name": "stdout",
     "output_type": "stream",
     "text": [
      "Model: \"sequential\"\n",
      "_________________________________________________________________\n",
      "Layer (type)                 Output Shape              Param #   \n",
      "=================================================================\n",
      "conv2d (Conv2D)              (None, 48, 48, 64)        640       \n",
      "_________________________________________________________________\n",
      "batch_normalization (BatchNo (None, 48, 48, 64)        256       \n",
      "_________________________________________________________________\n",
      "activation (Activation)      (None, 48, 48, 64)        0         \n",
      "_________________________________________________________________\n",
      "average_pooling2d (AveragePo (None, 24, 24, 64)        0         \n",
      "_________________________________________________________________\n",
      "dropout (Dropout)            (None, 24, 24, 64)        0         \n",
      "_________________________________________________________________\n",
      "conv2d_1 (Conv2D)            (None, 24, 24, 128)       204928    \n",
      "_________________________________________________________________\n",
      "batch_normalization_1 (Batch (None, 24, 24, 128)       512       \n",
      "_________________________________________________________________\n",
      "activation_1 (Activation)    (None, 24, 24, 128)       0         \n",
      "_________________________________________________________________\n",
      "average_pooling2d_1 (Average (None, 12, 12, 128)       0         \n",
      "_________________________________________________________________\n",
      "dropout_1 (Dropout)          (None, 12, 12, 128)       0         \n",
      "_________________________________________________________________\n",
      "conv2d_2 (Conv2D)            (None, 12, 12, 512)       590336    \n",
      "_________________________________________________________________\n",
      "batch_normalization_2 (Batch (None, 12, 12, 512)       2048      \n",
      "_________________________________________________________________\n",
      "activation_2 (Activation)    (None, 12, 12, 512)       0         \n",
      "_________________________________________________________________\n",
      "average_pooling2d_2 (Average (None, 6, 6, 512)         0         \n",
      "_________________________________________________________________\n",
      "dropout_2 (Dropout)          (None, 6, 6, 512)         0         \n",
      "_________________________________________________________________\n",
      "conv2d_3 (Conv2D)            (None, 6, 6, 512)         2359808   \n",
      "_________________________________________________________________\n",
      "batch_normalization_3 (Batch (None, 6, 6, 512)         2048      \n",
      "_________________________________________________________________\n",
      "activation_3 (Activation)    (None, 6, 6, 512)         0         \n",
      "_________________________________________________________________\n",
      "average_pooling2d_3 (Average (None, 3, 3, 512)         0         \n",
      "_________________________________________________________________\n",
      "dropout_3 (Dropout)          (None, 3, 3, 512)         0         \n",
      "_________________________________________________________________\n",
      "flatten (Flatten)            (None, 4608)              0         \n",
      "_________________________________________________________________\n",
      "dense (Dense)                (None, 128)               589952    \n",
      "_________________________________________________________________\n",
      "batch_normalization_4 (Batch (None, 128)               512       \n",
      "_________________________________________________________________\n",
      "activation_4 (Activation)    (None, 128)               0         \n",
      "_________________________________________________________________\n",
      "dropout_4 (Dropout)          (None, 128)               0         \n",
      "_________________________________________________________________\n",
      "dense_1 (Dense)              (None, 256)               33024     \n",
      "_________________________________________________________________\n",
      "batch_normalization_5 (Batch (None, 256)               1024      \n",
      "_________________________________________________________________\n",
      "activation_5 (Activation)    (None, 256)               0         \n",
      "_________________________________________________________________\n",
      "dropout_5 (Dropout)          (None, 256)               0         \n",
      "_________________________________________________________________\n",
      "dense_2 (Dense)              (None, 512)               131584    \n",
      "_________________________________________________________________\n",
      "batch_normalization_6 (Batch (None, 512)               2048      \n",
      "_________________________________________________________________\n",
      "activation_6 (Activation)    (None, 512)               0         \n",
      "_________________________________________________________________\n",
      "dropout_6 (Dropout)          (None, 512)               0         \n",
      "_________________________________________________________________\n",
      "dense_3 (Dense)              (None, 7)                 3591      \n",
      "=================================================================\n",
      "Total params: 3,922,311\n",
      "Trainable params: 3,918,087\n",
      "Non-trainable params: 4,224\n",
      "_________________________________________________________________\n"
     ]
    },
    {
     "name": "stderr",
     "output_type": "stream",
     "text": [
      "/opt/homebrew/Caskroom/miniforge/base/envs/tensorflow/lib/python3.9/site-packages/tensorflow/python/keras/optimizer_v2/optimizer_v2.py:374: UserWarning: The `lr` argument is deprecated, use `learning_rate` instead.\n",
      "  warnings.warn(\n"
     ]
    }
   ],
   "source": [
    "# from keras.optimizers import Adam,SGD,RMSprop\n",
    "\n",
    "\n",
    "no_of_classes = 7\n",
    "\n",
    "model = Sequential()\n",
    "\n",
    "#1st CNN layer\n",
    "model.add(Conv2D(64,(3,3),padding = 'same',input_shape = (48,48,1)))\n",
    "model.add(BatchNormalization())\n",
    "model.add(Activation('relu'))\n",
    "model.add(AveragePooling2D(pool_size = (2,2)))\n",
    "model.add(Dropout(0.25))\n",
    "\n",
    "#2nd CNN layer\n",
    "model.add(Conv2D(128,(5,5),padding = 'same'))\n",
    "model.add(BatchNormalization())\n",
    "model.add(Activation('relu'))\n",
    "model.add(AveragePooling2D(pool_size = (2,2)))\n",
    "model.add(Dropout (0.25))\n",
    "\n",
    "#3rd CNN layer\n",
    "model.add(Conv2D(512,(3,3),padding = 'same'))\n",
    "model.add(BatchNormalization())\n",
    "model.add(Activation('relu'))\n",
    "model.add(AveragePooling2D(pool_size = (2,2)))\n",
    "model.add(Dropout (0.25))\n",
    "\n",
    "#4th CNN layer\n",
    "model.add(Conv2D(512,(3,3), padding='same'))\n",
    "model.add(BatchNormalization())\n",
    "model.add(Activation('relu'))\n",
    "model.add(AveragePooling2D(pool_size=(2, 2)))\n",
    "model.add(Dropout(0.25))\n",
    "\n",
    "model.add(Flatten())\n",
    "\n",
    "#Fully connected 1st layer\n",
    "model.add(Dense(128))\n",
    "model.add(BatchNormalization())\n",
    "model.add(Activation('relu'))\n",
    "model.add(Dropout(0.25))\n",
    "\n",
    "#Fully connected 2nd layer\n",
    "model.add(Dense(256))\n",
    "model.add(BatchNormalization())\n",
    "model.add(Activation('relu'))\n",
    "model.add(Dropout(0.25))\n",
    "\n",
    "\n",
    "# Fully connected 3rd layer\n",
    "model.add(Dense(512))\n",
    "model.add(BatchNormalization())\n",
    "model.add(Activation('relu'))\n",
    "model.add(Dropout(0.25))\n",
    "\n",
    "model.add(Dense(no_of_classes, activation='softmax'))\n",
    "\n",
    "\n",
    "\n",
    "opt = Adam(lr = 0.0001)\n",
    "model.compile(optimizer=opt,loss='categorical_crossentropy', metrics=['accuracy'])\n",
    "model.summary()"
   ]
  },
  {
   "cell_type": "markdown",
   "id": "3de20623",
   "metadata": {},
   "source": [
    "## Fitting the Model with Training and Validation Data"
   ]
  },
  {
   "cell_type": "code",
   "execution_count": 6,
   "id": "7bcc296e",
   "metadata": {},
   "outputs": [],
   "source": [
    "\n",
    "checkpoint = ModelCheckpoint(folder_path+\"/model7new.h4\", monitor='val_accuracy', verbose=1, save_best_only=True, mode='max')\n",
    "\n",
    "early_stopping = EarlyStopping(monitor='val_loss',\n",
    "                          min_delta=0,\n",
    "                          patience=15,\n",
    "                          verbose=1,\n",
    "                          restore_best_weights=True\n",
    "                          )\n",
    "\n",
    "reduce_learningrate = ReduceLROnPlateau(monitor='val_loss',\n",
    "                              factor=0.2,\n",
    "                              patience=3,\n",
    "                              verbose=1,\n",
    "                              min_delta=0.0001)\n",
    "\n",
    "callbacks_list = [early_stopping,checkpoint,reduce_learningrate]\n",
    "\n",
    "epochs = 60\n",
    "\n",
    "model.compile(loss='categorical_crossentropy',\n",
    "              optimizer = Adam(lr=0.001),\n",
    "              metrics=['accuracy'])"
   ]
  },
  {
   "cell_type": "code",
   "execution_count": 7,
   "id": "702a8345",
   "metadata": {
    "scrolled": true
   },
   "outputs": [
    {
     "name": "stderr",
     "output_type": "stream",
     "text": [
      "/opt/homebrew/Caskroom/miniforge/base/envs/tensorflow/lib/python3.9/site-packages/tensorflow/python/keras/engine/training.py:1940: UserWarning: `Model.fit_generator` is deprecated and will be removed in a future version. Please use `Model.fit`, which supports generators.\n",
      "  warnings.warn('`Model.fit_generator` is deprecated and '\n",
      "2021-12-11 19:28:14.128258: I tensorflow/compiler/mlir/mlir_graph_optimization_pass.cc:176] None of the MLIR Optimization Passes are enabled (registered 2)\n",
      "2021-12-11 19:28:14.130019: W tensorflow/core/platform/profile_utils/cpu_utils.cc:128] Failed to get CPU frequency: 0 Hz\n"
     ]
    },
    {
     "name": "stdout",
     "output_type": "stream",
     "text": [
      "Epoch 1/60\n"
     ]
    },
    {
     "name": "stderr",
     "output_type": "stream",
     "text": [
      "2021-12-11 19:28:14.652262: I tensorflow/core/grappler/optimizers/custom_graph_optimizer_registry.cc:112] Plugin optimizer for device_type GPU is enabled.\n"
     ]
    },
    {
     "name": "stdout",
     "output_type": "stream",
     "text": [
      "224/224 [==============================] - ETA: 0s - loss: 1.9064 - accuracy: 0.2512"
     ]
    },
    {
     "name": "stderr",
     "output_type": "stream",
     "text": [
      "2021-12-11 19:29:11.257423: I tensorflow/core/grappler/optimizers/custom_graph_optimizer_registry.cc:112] Plugin optimizer for device_type GPU is enabled.\n"
     ]
    },
    {
     "name": "stdout",
     "output_type": "stream",
     "text": [
      "224/224 [==============================] - 60s 241ms/step - loss: 1.9064 - accuracy: 0.2512 - val_loss: 2.8230 - val_accuracy: 0.2193\n",
      "\n",
      "Epoch 00001: val_accuracy improved from -inf to 0.21931, saving model to /Users/praneeth44/OneDrive - Indiana University/IU/AML/Project/FER 2013/archive/model.h7\n"
     ]
    },
    {
     "name": "stderr",
     "output_type": "stream",
     "text": [
      "2021-12-11 19:29:15.011451: W tensorflow/python/util/util.cc:348] Sets are not currently considered sequences, but this may change in the future, so consider avoiding using them.\n"
     ]
    },
    {
     "name": "stdout",
     "output_type": "stream",
     "text": [
      "INFO:tensorflow:Assets written to: /Users/praneeth44/OneDrive - Indiana University/IU/AML/Project/FER 2013/archive/model.h7/assets\n",
      "Epoch 2/60\n",
      "224/224 [==============================] - 56s 248ms/step - loss: 1.6139 - accuracy: 0.3779 - val_loss: 1.7338 - val_accuracy: 0.3407\n",
      "\n",
      "Epoch 00002: val_accuracy improved from 0.21931 to 0.34068, saving model to /Users/praneeth44/OneDrive - Indiana University/IU/AML/Project/FER 2013/archive/model.h7\n",
      "INFO:tensorflow:Assets written to: /Users/praneeth44/OneDrive - Indiana University/IU/AML/Project/FER 2013/archive/model.h7/assets\n",
      "Epoch 3/60\n",
      "224/224 [==============================] - 56s 248ms/step - loss: 1.4329 - accuracy: 0.4514 - val_loss: 1.7654 - val_accuracy: 0.2987\n",
      "\n",
      "Epoch 00003: val_accuracy did not improve from 0.34068\n",
      "Epoch 4/60\n",
      "224/224 [==============================] - 53s 238ms/step - loss: 1.3172 - accuracy: 0.4953 - val_loss: 1.6925 - val_accuracy: 0.3203\n",
      "\n",
      "Epoch 00004: val_accuracy did not improve from 0.34068\n",
      "Epoch 5/60\n",
      "224/224 [==============================] - 51s 229ms/step - loss: 1.2420 - accuracy: 0.5239 - val_loss: 1.4739 - val_accuracy: 0.4069\n",
      "\n",
      "Epoch 00005: val_accuracy improved from 0.34068 to 0.40695, saving model to /Users/praneeth44/OneDrive - Indiana University/IU/AML/Project/FER 2013/archive/model.h7\n",
      "INFO:tensorflow:Assets written to: /Users/praneeth44/OneDrive - Indiana University/IU/AML/Project/FER 2013/archive/model.h7/assets\n",
      "Epoch 6/60\n",
      "224/224 [==============================] - 54s 242ms/step - loss: 1.1900 - accuracy: 0.5491 - val_loss: 1.2386 - val_accuracy: 0.5339\n",
      "\n",
      "Epoch 00006: val_accuracy improved from 0.40695 to 0.53390, saving model to /Users/praneeth44/OneDrive - Indiana University/IU/AML/Project/FER 2013/archive/model.h7\n",
      "INFO:tensorflow:Assets written to: /Users/praneeth44/OneDrive - Indiana University/IU/AML/Project/FER 2013/archive/model.h7/assets\n",
      "Epoch 7/60\n",
      "224/224 [==============================] - 58s 258ms/step - loss: 1.1470 - accuracy: 0.5658 - val_loss: 1.2646 - val_accuracy: 0.5176\n",
      "\n",
      "Epoch 00007: val_accuracy did not improve from 0.53390\n",
      "Epoch 8/60\n",
      "224/224 [==============================] - 54s 241ms/step - loss: 1.1048 - accuracy: 0.5830 - val_loss: 1.2039 - val_accuracy: 0.5400\n",
      "\n",
      "Epoch 00008: val_accuracy improved from 0.53390 to 0.54004, saving model to /Users/praneeth44/OneDrive - Indiana University/IU/AML/Project/FER 2013/archive/model.h7\n",
      "INFO:tensorflow:Assets written to: /Users/praneeth44/OneDrive - Indiana University/IU/AML/Project/FER 2013/archive/model.h7/assets\n",
      "Epoch 9/60\n",
      "224/224 [==============================] - 58s 259ms/step - loss: 1.0665 - accuracy: 0.5985 - val_loss: 1.2914 - val_accuracy: 0.5096\n",
      "\n",
      "Epoch 00009: val_accuracy did not improve from 0.54004\n",
      "Epoch 10/60\n",
      "224/224 [==============================] - 54s 240ms/step - loss: 1.0426 - accuracy: 0.6063 - val_loss: 1.1254 - val_accuracy: 0.5816\n",
      "\n",
      "Epoch 00010: val_accuracy improved from 0.54004 to 0.58161, saving model to /Users/praneeth44/OneDrive - Indiana University/IU/AML/Project/FER 2013/archive/model.h7\n",
      "INFO:tensorflow:Assets written to: /Users/praneeth44/OneDrive - Indiana University/IU/AML/Project/FER 2013/archive/model.h7/assets\n",
      "Epoch 11/60\n",
      "224/224 [==============================] - 55s 246ms/step - loss: 1.0062 - accuracy: 0.6225 - val_loss: 1.9395 - val_accuracy: 0.3697\n",
      "\n",
      "Epoch 00011: val_accuracy did not improve from 0.58161\n",
      "Epoch 12/60\n",
      "224/224 [==============================] - 53s 238ms/step - loss: 0.9730 - accuracy: 0.6358 - val_loss: 1.2687 - val_accuracy: 0.5332\n",
      "\n",
      "Epoch 00012: val_accuracy did not improve from 0.58161\n",
      "Epoch 13/60\n",
      "224/224 [==============================] - 53s 235ms/step - loss: 0.9491 - accuracy: 0.6442 - val_loss: 1.1139 - val_accuracy: 0.5858\n",
      "\n",
      "Epoch 00013: val_accuracy improved from 0.58161 to 0.58580, saving model to /Users/praneeth44/OneDrive - Indiana University/IU/AML/Project/FER 2013/archive/model.h7\n",
      "INFO:tensorflow:Assets written to: /Users/praneeth44/OneDrive - Indiana University/IU/AML/Project/FER 2013/archive/model.h7/assets\n",
      "Epoch 14/60\n",
      "224/224 [==============================] - 57s 253ms/step - loss: 0.9149 - accuracy: 0.6617 - val_loss: 1.3990 - val_accuracy: 0.4967\n",
      "\n",
      "Epoch 00014: val_accuracy did not improve from 0.58580\n",
      "Epoch 15/60\n",
      "224/224 [==============================] - 55s 245ms/step - loss: 0.8868 - accuracy: 0.6674 - val_loss: 1.1495 - val_accuracy: 0.5777\n",
      "\n",
      "Epoch 00015: val_accuracy did not improve from 0.58580\n",
      "Epoch 16/60\n",
      "224/224 [==============================] - 52s 233ms/step - loss: 0.8550 - accuracy: 0.6839 - val_loss: 1.0521 - val_accuracy: 0.6212\n",
      "\n",
      "Epoch 00016: val_accuracy improved from 0.58580 to 0.62123, saving model to /Users/praneeth44/OneDrive - Indiana University/IU/AML/Project/FER 2013/archive/model.h7\n",
      "INFO:tensorflow:Assets written to: /Users/praneeth44/OneDrive - Indiana University/IU/AML/Project/FER 2013/archive/model.h7/assets\n",
      "Epoch 17/60\n",
      "224/224 [==============================] - 56s 251ms/step - loss: 0.8263 - accuracy: 0.6932 - val_loss: 1.0872 - val_accuracy: 0.6051\n",
      "\n",
      "Epoch 00017: val_accuracy did not improve from 0.62123\n",
      "Epoch 18/60\n",
      "224/224 [==============================] - 57s 256ms/step - loss: 0.7910 - accuracy: 0.7089 - val_loss: 1.4054 - val_accuracy: 0.4950\n",
      "\n",
      "Epoch 00018: val_accuracy did not improve from 0.62123\n",
      "Epoch 19/60\n",
      "224/224 [==============================] - 52s 232ms/step - loss: 0.7613 - accuracy: 0.7190 - val_loss: 1.1281 - val_accuracy: 0.5956\n",
      "\n",
      "Epoch 00019: val_accuracy did not improve from 0.62123\n",
      "\n",
      "Epoch 00019: ReduceLROnPlateau reducing learning rate to 0.00020000000949949026.\n",
      "Epoch 20/60\n",
      "224/224 [==============================] - 52s 231ms/step - loss: 0.6586 - accuracy: 0.7588 - val_loss: 0.9907 - val_accuracy: 0.6600\n",
      "\n",
      "Epoch 00020: val_accuracy improved from 0.62123 to 0.66002, saving model to /Users/praneeth44/OneDrive - Indiana University/IU/AML/Project/FER 2013/archive/model.h7\n",
      "INFO:tensorflow:Assets written to: /Users/praneeth44/OneDrive - Indiana University/IU/AML/Project/FER 2013/archive/model.h7/assets\n",
      "Epoch 21/60\n",
      "224/224 [==============================] - 56s 250ms/step - loss: 0.6022 - accuracy: 0.7796 - val_loss: 1.0067 - val_accuracy: 0.6610\n",
      "\n",
      "Epoch 00021: val_accuracy improved from 0.66002 to 0.66099, saving model to /Users/praneeth44/OneDrive - Indiana University/IU/AML/Project/FER 2013/archive/model.h7\n",
      "INFO:tensorflow:Assets written to: /Users/praneeth44/OneDrive - Indiana University/IU/AML/Project/FER 2013/archive/model.h7/assets\n",
      "Epoch 22/60\n",
      "224/224 [==============================] - 56s 250ms/step - loss: 0.5818 - accuracy: 0.7883 - val_loss: 1.0174 - val_accuracy: 0.6597\n",
      "\n",
      "Epoch 00022: val_accuracy did not improve from 0.66099\n",
      "Epoch 23/60\n",
      "224/224 [==============================] - 54s 241ms/step - loss: 0.5580 - accuracy: 0.7949 - val_loss: 1.0558 - val_accuracy: 0.6613\n",
      "\n",
      "Epoch 00023: val_accuracy improved from 0.66099 to 0.66127, saving model to /Users/praneeth44/OneDrive - Indiana University/IU/AML/Project/FER 2013/archive/model.h7\n",
      "INFO:tensorflow:Assets written to: /Users/praneeth44/OneDrive - Indiana University/IU/AML/Project/FER 2013/archive/model.h7/assets\n",
      "\n",
      "Epoch 00023: ReduceLROnPlateau reducing learning rate to 4.0000001899898055e-05.\n",
      "Epoch 24/60\n",
      "224/224 [==============================] - 56s 249ms/step - loss: 0.5229 - accuracy: 0.8072 - val_loss: 1.0275 - val_accuracy: 0.6674\n",
      "\n",
      "Epoch 00024: val_accuracy improved from 0.66127 to 0.66741, saving model to /Users/praneeth44/OneDrive - Indiana University/IU/AML/Project/FER 2013/archive/model.h7\n",
      "INFO:tensorflow:Assets written to: /Users/praneeth44/OneDrive - Indiana University/IU/AML/Project/FER 2013/archive/model.h7/assets\n",
      "Epoch 25/60\n",
      "224/224 [==============================] - 60s 267ms/step - loss: 0.5118 - accuracy: 0.8127 - val_loss: 1.0327 - val_accuracy: 0.6667\n",
      "\n",
      "Epoch 00025: val_accuracy did not improve from 0.66741\n",
      "Epoch 26/60\n",
      "224/224 [==============================] - 54s 242ms/step - loss: 0.5081 - accuracy: 0.8145 - val_loss: 1.0358 - val_accuracy: 0.6680\n",
      "\n",
      "Epoch 00026: val_accuracy improved from 0.66741 to 0.66797, saving model to /Users/praneeth44/OneDrive - Indiana University/IU/AML/Project/FER 2013/archive/model.h7\n",
      "INFO:tensorflow:Assets written to: /Users/praneeth44/OneDrive - Indiana University/IU/AML/Project/FER 2013/archive/model.h7/assets\n"
     ]
    },
    {
     "name": "stdout",
     "output_type": "stream",
     "text": [
      "\n",
      "Epoch 00026: ReduceLROnPlateau reducing learning rate to 8.000000525498762e-06.\n",
      "Epoch 27/60\n",
      "224/224 [==============================] - 56s 251ms/step - loss: 0.5042 - accuracy: 0.8158 - val_loss: 1.0403 - val_accuracy: 0.6684\n",
      "\n",
      "Epoch 00027: val_accuracy improved from 0.66797 to 0.66839, saving model to /Users/praneeth44/OneDrive - Indiana University/IU/AML/Project/FER 2013/archive/model.h7\n",
      "INFO:tensorflow:Assets written to: /Users/praneeth44/OneDrive - Indiana University/IU/AML/Project/FER 2013/archive/model.h7/assets\n",
      "Epoch 28/60\n",
      "224/224 [==============================] - 57s 255ms/step - loss: 0.5025 - accuracy: 0.8183 - val_loss: 1.0404 - val_accuracy: 0.6681\n",
      "\n",
      "Epoch 00028: val_accuracy did not improve from 0.66839\n",
      "Epoch 29/60\n",
      "224/224 [==============================] - 54s 239ms/step - loss: 0.5006 - accuracy: 0.8189 - val_loss: 1.0409 - val_accuracy: 0.6681\n",
      "\n",
      "Epoch 00029: val_accuracy did not improve from 0.66839\n",
      "\n",
      "Epoch 00029: ReduceLROnPlateau reducing learning rate to 1.6000001778593287e-06.\n",
      "Epoch 30/60\n",
      "224/224 [==============================] - 52s 234ms/step - loss: 0.4987 - accuracy: 0.8190 - val_loss: 1.0413 - val_accuracy: 0.6684\n",
      "\n",
      "Epoch 00030: val_accuracy did not improve from 0.66839\n",
      "Epoch 31/60\n",
      "224/224 [==============================] - 52s 231ms/step - loss: 0.4973 - accuracy: 0.8176 - val_loss: 1.0416 - val_accuracy: 0.6687\n",
      "\n",
      "Epoch 00031: val_accuracy improved from 0.66839 to 0.66867, saving model to /Users/praneeth44/OneDrive - Indiana University/IU/AML/Project/FER 2013/archive/model.h7\n",
      "INFO:tensorflow:Assets written to: /Users/praneeth44/OneDrive - Indiana University/IU/AML/Project/FER 2013/archive/model.h7/assets\n",
      "Epoch 32/60\n",
      "224/224 [==============================] - 56s 248ms/step - loss: 0.5070 - accuracy: 0.8153 - val_loss: 1.0421 - val_accuracy: 0.6685\n",
      "\n",
      "Epoch 00032: val_accuracy did not improve from 0.66867\n",
      "\n",
      "Epoch 00032: ReduceLROnPlateau reducing learning rate to 3.200000264769187e-07.\n",
      "Epoch 33/60\n",
      "224/224 [==============================] - 54s 241ms/step - loss: 0.4987 - accuracy: 0.8155 - val_loss: 1.0415 - val_accuracy: 0.6691\n",
      "\n",
      "Epoch 00033: val_accuracy improved from 0.66867 to 0.66908, saving model to /Users/praneeth44/OneDrive - Indiana University/IU/AML/Project/FER 2013/archive/model.h7\n",
      "INFO:tensorflow:Assets written to: /Users/praneeth44/OneDrive - Indiana University/IU/AML/Project/FER 2013/archive/model.h7/assets\n",
      "Epoch 34/60\n",
      "224/224 [==============================] - 55s 247ms/step - loss: 0.4997 - accuracy: 0.8187 - val_loss: 1.0437 - val_accuracy: 0.6681\n",
      "\n",
      "Epoch 00034: val_accuracy did not improve from 0.66908\n",
      "Epoch 35/60\n",
      "224/224 [==============================] - 52s 230ms/step - loss: 0.4933 - accuracy: 0.8189 - val_loss: 1.0423 - val_accuracy: 0.6688\n",
      "Restoring model weights from the end of the best epoch.\n",
      "\n",
      "Epoch 00035: val_accuracy did not improve from 0.66908\n",
      "\n",
      "Epoch 00035: ReduceLROnPlateau reducing learning rate to 6.400000529538374e-08.\n",
      "Epoch 00035: early stopping\n"
     ]
    }
   ],
   "source": [
    "history = model.fit_generator(generator=train_set,\n",
    "                                steps_per_epoch=train_set.n//train_set.batch_size,\n",
    "                                epochs=epochs,\n",
    "                                validation_data = test_set,\n",
    "                                validation_steps = test_set.n//test_set.batch_size,\n",
    "                                callbacks=callbacks_list\n",
    "                                )"
   ]
  },
  {
   "cell_type": "markdown",
   "id": "51d6386b",
   "metadata": {},
   "source": [
    "## Plotting Accuracy & Loss"
   ]
  },
  {
   "cell_type": "code",
   "execution_count": 8,
   "id": "fa2b3cb2",
   "metadata": {
    "scrolled": false
   },
   "outputs": [
    {
     "data": {
      "image/png": "[encoded data removed]",
      "text/plain": [
       "<Figure size 1440x720 with 2 Axes>"
      ]
     },
     "metadata": {
      "needs_background": "light"
     },
     "output_type": "display_data"
    }
   ],
   "source": [
    "# plt.style.use('dark_background')\n",
    "\n",
    "plt.figure(figsize=(20,10))\n",
    "plt.subplot(1, 2, 1)\n",
    "plt.suptitle('Optimizer : Adam', fontsize=10)\n",
    "plt.ylabel('Loss', fontsize=16)\n",
    "plt.plot(history.history['loss'], label='Training Loss')\n",
    "plt.plot(history.history['val_loss'], label='Validation Loss')\n",
    "plt.legend(loc='upper right')\n",
    "\n",
    "plt.subplot(1, 2, 2)\n",
    "plt.ylabel('Accuracy', fontsize=16)\n",
    "plt.plot(history.history['accuracy'], label='Training Accuracy')\n",
    "plt.plot(history.history['val_accuracy'], label='Validation Accuracy')\n",
    "plt.legend(loc='lower right')\n",
    "plt.show()"
   ]
  }
 ],
 "metadata": {
  "kernelspec": {
   "display_name": "Python 3 (ipykernel)",
   "language": "python",
   "name": "python3"
  },
  "language_info": {
   "codemirror_mode": {
    "name": "ipython",
    "version": 3
   },
   "file_extension": ".py",
   "mimetype": "text/x-python",
   "name": "python",
   "nbconvert_exporter": "python",
   "pygments_lexer": "ipython3",
   "version": "3.9.7"
  }
 },
 "nbformat": 4,
 "nbformat_minor": 5
}
